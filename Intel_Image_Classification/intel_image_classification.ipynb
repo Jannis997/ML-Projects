{
 "cells": [
  {
   "cell_type": "code",
   "execution_count": 1,
   "metadata": {},
   "outputs": [],
   "source": [
    "import numpy as np\n",
    "from matplotlib import pyplot as plt\n",
    "import os\n",
    "import tensorflow as tf\n",
    "from tensorflow.keras.models import Model,load_model, Sequential\n",
    "from tensorflow.keras.layers import  GlobalAveragePooling2D, Dropout, Dense, Flatten\n",
    "from tensorflow.keras.preprocessing.image import ImageDataGenerator\n",
    "from tensorflow.keras.optimizers import  Adam\n",
    "from tensorflow.keras.preprocessing.image import load_img, img_to_array\n",
    "import cv2\n",
    "from tensorflow.keras import Model,layers\n",
    "import glob\n",
    "from tensorflow.keras.optimizers import RMSprop"
   ]
  },
  {
   "cell_type": "code",
   "execution_count": 2,
   "metadata": {},
   "outputs": [
    {
     "data": {
      "text/plain": [
       "['D:\\\\Programming\\\\Python\\\\Kaggle\\\\Intel_Image_Classification\\\\seg_train\\\\buildings',\n",
       " 'D:\\\\Programming\\\\Python\\\\Kaggle\\\\Intel_Image_Classification\\\\seg_train\\\\forest',\n",
       " 'D:\\\\Programming\\\\Python\\\\Kaggle\\\\Intel_Image_Classification\\\\seg_train\\\\glacier',\n",
       " 'D:\\\\Programming\\\\Python\\\\Kaggle\\\\Intel_Image_Classification\\\\seg_train\\\\mountain',\n",
       " 'D:\\\\Programming\\\\Python\\\\Kaggle\\\\Intel_Image_Classification\\\\seg_train\\\\sea',\n",
       " 'D:\\\\Programming\\\\Python\\\\Kaggle\\\\Intel_Image_Classification\\\\seg_train\\\\street']"
      ]
     },
     "execution_count": 2,
     "metadata": {},
     "output_type": "execute_result"
    }
   ],
   "source": [
    "glob.glob('D:\\Programming\\Python\\Kaggle\\Intel_Image_Classification\\seg_train\\*')"
   ]
  },
  {
   "cell_type": "code",
   "execution_count": 3,
   "metadata": {},
   "outputs": [],
   "source": [
    "def prepare_dataset(path,label):\n",
    "    x_train=[]\n",
    "    y_train=[]\n",
    "    all_images_path=glob.glob(path+'/*.jpg')\n",
    "    for img_path in all_images_path :\n",
    "            img=load_img(img_path, target_size=(150,150))\n",
    "            img=img_to_array(img)\n",
    "            img=img/255.0\n",
    "            x_train.append(img)\n",
    "            y_train.append(label)\n",
    "    return np.array(x_train),np.array(y_train)"
   ]
  },
  {
   "cell_type": "code",
   "execution_count": 4,
   "metadata": {},
   "outputs": [
    {
     "name": "stdout",
     "output_type": "stream",
     "text": [
      "['buildings']\n",
      "['buildings', 'forest']\n",
      "['buildings', 'forest', 'glacier']\n",
      "['buildings', 'forest', 'glacier', 'mountain']\n",
      "['buildings', 'forest', 'glacier', 'mountain', 'sea']\n",
      "['buildings', 'forest', 'glacier', 'mountain', 'sea', 'street']\n"
     ]
    }
   ],
   "source": [
    "paths=glob.glob('D:\\Programming\\Python\\Kaggle\\Intel_Image_Classification\\seg_train\\*')\n",
    "l=len('D:\\Programming\\Python\\Kaggle\\Intel_Image_Classification\\seg_train/')\n",
    "labels=[]\n",
    "for path in paths:\n",
    "    labels.append(path[l:])\n",
    "    print(labels)"
   ]
  },
  {
   "cell_type": "code",
   "execution_count": 5,
   "metadata": {},
   "outputs": [
    {
     "name": "stdout",
     "output_type": "stream",
     "text": [
      "train building shape  (2191, 150, 150, 3) (2191,)\n",
      "train forest (2271, 150, 150, 3) (2271,)\n",
      "train glacier (2404, 150, 150, 3) (2404,)\n",
      "train mountain (2512, 150, 150, 3) (2512,)\n",
      "train sea (2274, 150, 150, 3) (2274,)\n",
      "train street (2382, 150, 150, 3) (2382,)\n"
     ]
    }
   ],
   "source": [
    "trainX_building, trainY_building  = prepare_dataset(\"D:\\Programming\\Python\\Kaggle\\Intel_Image_Classification\\seg_train/buildings/\",0)\n",
    "trainX_forest,trainY_forest  = prepare_dataset(\"D:\\Programming\\Python\\Kaggle\\Intel_Image_Classification\\seg_train/forest/\",1)\n",
    "trainX_glacier,trainY_glacier  = prepare_dataset(\"D:\\Programming\\Python\\Kaggle\\Intel_Image_Classification\\seg_train\\glacier/\",2)\n",
    "trainX_mount,trainY_mount  = prepare_dataset(\"D:\\Programming\\Python\\Kaggle\\Intel_Image_Classification\\seg_train\\mountain/\",3)\n",
    "trainX_sea,trainY_sea  = prepare_dataset(\"D:\\Programming\\Python\\Kaggle\\Intel_Image_Classification\\seg_train\\sea/\",4)\n",
    "trainX_street,trainY_street  = prepare_dataset(\"D:\\Programming\\Python\\Kaggle\\Intel_Image_Classification\\seg_train\\street/\",5)\n",
    "\n",
    "print('train building shape ', trainX_building.shape, trainY_building.shape) \n",
    "print('train forest', trainX_forest.shape ,trainY_forest.shape)\n",
    "print('train glacier', trainX_glacier.shape,trainY_glacier.shape)\n",
    "print('train mountain', trainX_mount.shape, trainY_mount.shape)\n",
    "print('train sea',     trainX_sea.shape, trainY_sea.shape)\n",
    "print('train street', trainX_street.shape ,trainY_street.shape)"
   ]
  },
  {
   "cell_type": "code",
   "execution_count": 6,
   "metadata": {},
   "outputs": [],
   "source": [
    "x_train=np.concatenate((trainX_building,trainX_forest,trainX_glacier,trainX_mount,trainX_sea,trainX_street),axis=0)\n",
    "y_train=np.concatenate((trainY_building,trainY_forest,trainY_glacier,trainY_mount,trainY_sea,trainY_street),axis=0)"
   ]
  },
  {
   "cell_type": "code",
   "execution_count": 7,
   "metadata": {},
   "outputs": [
    {
     "name": "stdout",
     "output_type": "stream",
     "text": [
      "(14034, 150, 150, 3)\n",
      "(14034,)\n"
     ]
    }
   ],
   "source": [
    "print(x_train.shape)\n",
    "print(y_train.shape)"
   ]
  },
  {
   "cell_type": "code",
   "execution_count": 8,
   "metadata": {},
   "outputs": [
    {
     "name": "stdout",
     "output_type": "stream",
     "text": [
      "last layer of vgg : output shape:  (None, 5, 5, 2048)\n"
     ]
    }
   ],
   "source": [
    "from tensorflow.keras.applications import ResNet50\n",
    "\n",
    "#step1\n",
    "# file_resnet='/kaggle/input/vgg16/resnet50_weights_tf_dim_ordering_tf_kernels_notop.h5'\n",
    "pretrained_model=ResNet50( input_shape=(150,150,3),\n",
    "                                  include_top=False,\n",
    "                                  weights='imagenet'\n",
    "                                   )\n",
    "#step2\n",
    "for layer in pretrained_model.layers:\n",
    "     layer.trainable = False\n",
    "\n",
    "# pretrained_model.summary()\n",
    "        \n",
    "#step3        \n",
    "last_layer = pretrained_model.get_layer('conv5_block3_out')\n",
    "print('last layer of vgg : output shape: ', last_layer.output_shape)\n",
    "last_output = last_layer.output\n",
    "\n",
    "#step4\n",
    "x = layers.Flatten()(last_output)\n",
    "x = layers.Dense(1024, activation='relu')(x)\n",
    "x = layers.Dropout(0.2)(x)                  \n",
    "x = layers.Dense(6, activation='softmax')(x)\n",
    "\n",
    "#step5\n",
    "model_resnet = Model(pretrained_model.input, x) \n",
    "\n",
    "#step6\n",
    "model_resnet.compile(optimizer = RMSprop(learning_rate=0.0001), \n",
    "              loss = 'sparse_categorical_crossentropy', \n",
    "              metrics = ['acc'])\n",
    "\n",
    "#step7\n",
    "# model_resnet.fit(x_train,y_train,epochs=1,validation_data=(x_test,y_test))"
   ]
  },
  {
   "cell_type": "code",
   "execution_count": 9,
   "metadata": {},
   "outputs": [],
   "source": [
    "testX_building, testY_building  = prepare_dataset(\"D:\\Programming\\Python\\Kaggle\\Intel_Image_Classification/seg_test/seg_test/buildings/\",0)\n",
    "testX_forest,testY_forest  = prepare_dataset(\"D:\\Programming\\Python\\Kaggle\\Intel_Image_Classification/seg_test/seg_test/forest/\",1)\n",
    "testX_glacier,testY_glacier  = prepare_dataset(\"D:\\Programming\\Python\\Kaggle\\Intel_Image_Classification/seg_test/seg_test/glacier/\",2)\n",
    "testX_mount,testY_mount  = prepare_dataset(\"D:\\Programming\\Python\\Kaggle\\Intel_Image_Classification/seg_test/seg_test/mountain/\",3)\n",
    "testX_sea,testY_sea  = prepare_dataset(\"D:\\Programming\\Python\\Kaggle\\Intel_Image_Classification/seg_test/seg_test/sea/\",4)\n",
    "testX_street,testY_street  = prepare_dataset(\"D:\\Programming\\Python\\Kaggle\\Intel_Image_Classification/seg_test/seg_test/street/\",5)\n",
    "\n",
    "x_test=np.concatenate((testX_building,testX_forest,testX_glacier,testX_mount,testX_sea,testX_street),axis=0)\n",
    "y_test=np.concatenate((testY_building,testY_forest,testY_glacier,testY_mount,testY_sea,testY_street),axis=0)"
   ]
  },
  {
   "cell_type": "code",
   "execution_count": 10,
   "metadata": {},
   "outputs": [
    {
     "ename": "InternalError",
     "evalue": "Failed copying input tensor from /job:localhost/replica:0/task:0/device:CPU:0 to /job:localhost/replica:0/task:0/device:GPU:0 in order to run _EagerConst: Dst tensor is not initialized.",
     "output_type": "error",
     "traceback": [
      "\u001b[1;31m---------------------------------------------------------------------------\u001b[0m",
      "\u001b[1;31mInternalError\u001b[0m                             Traceback (most recent call last)",
      "\u001b[1;32md:\\Programming\\Python\\Kaggle\\Intel_Image_Classification\\intel_image_classification.ipynb Zelle 10\u001b[0m in \u001b[0;36m<cell line: 1>\u001b[1;34m()\u001b[0m\n\u001b[1;32m----> <a href='vscode-notebook-cell:/d%3A/Programming/Python/Kaggle/Intel_Image_Classification/intel_image_classification.ipynb#X12sZmlsZQ%3D%3D?line=0'>1</a>\u001b[0m model_resnet\u001b[39m.\u001b[39;49mfit(x_train,y_train,epochs\u001b[39m=\u001b[39;49m\u001b[39m1\u001b[39;49m,validation_data\u001b[39m=\u001b[39;49m(x_test,y_test))\n",
      "File \u001b[1;32mc:\\Users\\janni\\miniconda3\\envs\\tensorflow\\lib\\site-packages\\keras\\utils\\traceback_utils.py:70\u001b[0m, in \u001b[0;36mfilter_traceback.<locals>.error_handler\u001b[1;34m(*args, **kwargs)\u001b[0m\n\u001b[0;32m     67\u001b[0m     filtered_tb \u001b[39m=\u001b[39m _process_traceback_frames(e\u001b[39m.\u001b[39m__traceback__)\n\u001b[0;32m     68\u001b[0m     \u001b[39m# To get the full stack trace, call:\u001b[39;00m\n\u001b[0;32m     69\u001b[0m     \u001b[39m# `tf.debugging.disable_traceback_filtering()`\u001b[39;00m\n\u001b[1;32m---> 70\u001b[0m     \u001b[39mraise\u001b[39;00m e\u001b[39m.\u001b[39mwith_traceback(filtered_tb) \u001b[39mfrom\u001b[39;00m \u001b[39mNone\u001b[39m\n\u001b[0;32m     71\u001b[0m \u001b[39mfinally\u001b[39;00m:\n\u001b[0;32m     72\u001b[0m     \u001b[39mdel\u001b[39;00m filtered_tb\n",
      "File \u001b[1;32mc:\\Users\\janni\\miniconda3\\envs\\tensorflow\\lib\\site-packages\\tensorflow\\python\\framework\\constant_op.py:102\u001b[0m, in \u001b[0;36mconvert_to_eager_tensor\u001b[1;34m(value, ctx, dtype)\u001b[0m\n\u001b[0;32m    100\u001b[0m     dtype \u001b[39m=\u001b[39m dtypes\u001b[39m.\u001b[39mas_dtype(dtype)\u001b[39m.\u001b[39mas_datatype_enum\n\u001b[0;32m    101\u001b[0m ctx\u001b[39m.\u001b[39mensure_initialized()\n\u001b[1;32m--> 102\u001b[0m \u001b[39mreturn\u001b[39;00m ops\u001b[39m.\u001b[39;49mEagerTensor(value, ctx\u001b[39m.\u001b[39;49mdevice_name, dtype)\n",
      "\u001b[1;31mInternalError\u001b[0m: Failed copying input tensor from /job:localhost/replica:0/task:0/device:CPU:0 to /job:localhost/replica:0/task:0/device:GPU:0 in order to run _EagerConst: Dst tensor is not initialized."
     ]
    }
   ],
   "source": [
    "model_resnet.fit(x_train,y_train,epochs=1,validation_data=(x_test,y_test))"
   ]
  },
  {
   "cell_type": "markdown",
   "metadata": {},
   "source": [
    "Not enough GPU memory?"
   ]
  }
 ],
 "metadata": {
  "kernelspec": {
   "display_name": "Python 3.9.13 ('tensorflow')",
   "language": "python",
   "name": "python3"
  },
  "language_info": {
   "codemirror_mode": {
    "name": "ipython",
    "version": 3
   },
   "file_extension": ".py",
   "mimetype": "text/x-python",
   "name": "python",
   "nbconvert_exporter": "python",
   "pygments_lexer": "ipython3",
   "version": "3.9.13"
  },
  "orig_nbformat": 4,
  "vscode": {
   "interpreter": {
    "hash": "5bc951a62e5d894d98682f496a0db05c9759d563545e8f72a9b808523808365a"
   }
  }
 },
 "nbformat": 4,
 "nbformat_minor": 2
}
